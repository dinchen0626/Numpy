{
  "nbformat": 4,
  "nbformat_minor": 0,
  "metadata": {
    "colab": {
      "provenance": [],
      "include_colab_link": true
    },
    "kernelspec": {
      "name": "python3",
      "display_name": "Python 3"
    },
    "language_info": {
      "name": "python"
    }
  },
  "cells": [
    {
      "cell_type": "markdown",
      "metadata": {
        "id": "view-in-github",
        "colab_type": "text"
      },
      "source": [
        "<a href=\"https://colab.research.google.com/github/dinchen0626/Numpy/blob/main/Numpy.ipynb\" target=\"_parent\"><img src=\"https://colab.research.google.com/assets/colab-badge.svg\" alt=\"Open In Colab\"/></a>"
      ]
    },
    {
      "cell_type": "markdown",
      "source": [
        "# 格點"
      ],
      "metadata": {
        "id": "SO2pUT4Nq12i"
      }
    },
    {
      "cell_type": "code",
      "execution_count": null,
      "metadata": {
        "id": "-_dkz29-q1bM"
      },
      "outputs": [],
      "source": [
        "import numpy as np"
      ]
    },
    {
      "cell_type": "code",
      "source": [
        "x = np.array([1, 2, 3])"
      ],
      "metadata": {
        "id": "dQ1P3xhMq9yi"
      },
      "execution_count": null,
      "outputs": []
    },
    {
      "cell_type": "code",
      "source": [
        "x"
      ],
      "metadata": {
        "colab": {
          "base_uri": "https://localhost:8080/"
        },
        "id": "wpIOSGQdq91J",
        "outputId": "40794e00-2cc6-46c0-be3d-83dd18865327"
      },
      "execution_count": null,
      "outputs": [
        {
          "output_type": "execute_result",
          "data": {
            "text/plain": [
              "array([1, 2, 3])"
            ]
          },
          "metadata": {},
          "execution_count": 3
        }
      ]
    },
    {
      "cell_type": "code",
      "source": [
        "y = np.arange(10)"
      ],
      "metadata": {
        "id": "tR32jDg6q93R"
      },
      "execution_count": null,
      "outputs": []
    },
    {
      "cell_type": "code",
      "source": [
        "y"
      ],
      "metadata": {
        "colab": {
          "base_uri": "https://localhost:8080/"
        },
        "id": "4nK2Fc3LrIHa",
        "outputId": "dd639813-b44f-45f0-8d57-8f77d85ef4e9"
      },
      "execution_count": null,
      "outputs": [
        {
          "output_type": "execute_result",
          "data": {
            "text/plain": [
              "array([0, 1, 2, 3, 4, 5, 6, 7, 8, 9])"
            ]
          },
          "metadata": {},
          "execution_count": 5
        }
      ]
    },
    {
      "cell_type": "markdown",
      "source": [
        "# 基本運算"
      ],
      "metadata": {
        "id": "ueq4BIyTrKtC"
      }
    },
    {
      "cell_type": "code",
      "source": [
        "a = np.array([1, 2, 3, 6])"
      ],
      "metadata": {
        "id": "Hdfz-0tfrMgK"
      },
      "execution_count": null,
      "outputs": []
    },
    {
      "cell_type": "code",
      "source": [
        "b = np.linspace(0, 2, 4)"
      ],
      "metadata": {
        "id": "Jl1VedUDrMxT"
      },
      "execution_count": null,
      "outputs": []
    },
    {
      "cell_type": "code",
      "source": [
        "c = a - b"
      ],
      "metadata": {
        "id": "ubsYssbJrMzz"
      },
      "execution_count": null,
      "outputs": []
    },
    {
      "cell_type": "code",
      "source": [
        "c"
      ],
      "metadata": {
        "colab": {
          "base_uri": "https://localhost:8080/"
        },
        "id": "NqZmU2BCrM2K",
        "outputId": "21a1e1ca-ccee-4e7e-c400-d60cfd3f1f88"
      },
      "execution_count": null,
      "outputs": [
        {
          "output_type": "execute_result",
          "data": {
            "text/plain": [
              "array([1.        , 1.33333333, 1.66666667, 4.        ])"
            ]
          },
          "metadata": {},
          "execution_count": 9
        }
      ]
    },
    {
      "cell_type": "code",
      "source": [
        "a**2"
      ],
      "metadata": {
        "colab": {
          "base_uri": "https://localhost:8080/"
        },
        "id": "nzL74YCbrUaT",
        "outputId": "982df8d1-4cc6-4c6c-ee1a-0056fe4e53ac"
      },
      "execution_count": null,
      "outputs": [
        {
          "output_type": "execute_result",
          "data": {
            "text/plain": [
              "array([ 1,  4,  9, 36])"
            ]
          },
          "metadata": {},
          "execution_count": 10
        }
      ]
    },
    {
      "cell_type": "markdown",
      "source": [
        "# 全域方法"
      ],
      "metadata": {
        "id": "AYOGNmmorVsk"
      }
    },
    {
      "cell_type": "code",
      "source": [
        "a = np.linspace(-np.pi, np.pi, 100)"
      ],
      "metadata": {
        "id": "G-Cw1XQjrYDc"
      },
      "execution_count": null,
      "outputs": []
    },
    {
      "cell_type": "code",
      "source": [
        "b = np.sin(a)"
      ],
      "metadata": {
        "id": "k4XV7_L6rYX0"
      },
      "execution_count": null,
      "outputs": []
    },
    {
      "cell_type": "code",
      "source": [
        "c = np.cos(a)"
      ],
      "metadata": {
        "id": "RpcWQvlirYZ8"
      },
      "execution_count": null,
      "outputs": []
    },
    {
      "cell_type": "markdown",
      "source": [
        "# 線性代數"
      ],
      "metadata": {
        "id": "XXGKCvTCrilW"
      }
    },
    {
      "cell_type": "code",
      "source": [
        "from numpy.random import rand"
      ],
      "metadata": {
        "id": "x86N0WUCrkF3"
      },
      "execution_count": null,
      "outputs": []
    },
    {
      "cell_type": "code",
      "source": [
        "from numpy.linalg import solve, inv"
      ],
      "metadata": {
        "id": "JXYL5KbcrkN-"
      },
      "execution_count": null,
      "outputs": []
    },
    {
      "cell_type": "code",
      "source": [
        "a = np.array([[1, 2, 3], [3, 4, 6.7], [5, 9.0, 5]])"
      ],
      "metadata": {
        "id": "c9AU4DDyrkQH"
      },
      "execution_count": null,
      "outputs": []
    },
    {
      "cell_type": "code",
      "source": [
        "a.transpose()"
      ],
      "metadata": {
        "colab": {
          "base_uri": "https://localhost:8080/"
        },
        "id": "yrhGubcMrkTX",
        "outputId": "3bc0996b-fadb-4f12-9678-16bde92908eb"
      },
      "execution_count": null,
      "outputs": [
        {
          "output_type": "execute_result",
          "data": {
            "text/plain": [
              "array([[1. , 3. , 5. ],\n",
              "       [2. , 4. , 9. ],\n",
              "       [3. , 6.7, 5. ]])"
            ]
          },
          "metadata": {},
          "execution_count": 19
        }
      ]
    },
    {
      "cell_type": "code",
      "source": [
        "inv(a)"
      ],
      "metadata": {
        "colab": {
          "base_uri": "https://localhost:8080/"
        },
        "id": "X9sDw2jYrqxW",
        "outputId": "ab72ebbc-4e0e-4225-a394-05b9e180164d"
      },
      "execution_count": null,
      "outputs": [
        {
          "output_type": "execute_result",
          "data": {
            "text/plain": [
              "array([[-2.27683616,  0.96045198,  0.07909605],\n",
              "       [ 1.04519774, -0.56497175,  0.1299435 ],\n",
              "       [ 0.39548023,  0.05649718, -0.11299435]])"
            ]
          },
          "metadata": {},
          "execution_count": 20
        }
      ]
    },
    {
      "cell_type": "code",
      "source": [
        "b =  np.array([3, 2, 1])"
      ],
      "metadata": {
        "id": "p9wdpNMgrq5-"
      },
      "execution_count": null,
      "outputs": []
    },
    {
      "cell_type": "code",
      "source": [
        "solve(a, b)"
      ],
      "metadata": {
        "colab": {
          "base_uri": "https://localhost:8080/"
        },
        "id": "vea1r1slrq8m",
        "outputId": "f3fc6a6a-3bcd-4c81-c87a-191d120ba134"
      },
      "execution_count": null,
      "outputs": [
        {
          "output_type": "execute_result",
          "data": {
            "text/plain": [
              "array([-4.83050847,  2.13559322,  1.18644068])"
            ]
          },
          "metadata": {},
          "execution_count": 22
        }
      ]
    },
    {
      "cell_type": "code",
      "source": [
        "c = rand(3, 3)"
      ],
      "metadata": {
        "id": "eP42KieTrq_n"
      },
      "execution_count": null,
      "outputs": []
    },
    {
      "cell_type": "code",
      "source": [
        "c"
      ],
      "metadata": {
        "id": "DbFS-18JsLWL",
        "outputId": "e24c437e-c0a4-4476-9aa5-d3cad63998ae",
        "colab": {
          "base_uri": "https://localhost:8080/"
        }
      },
      "execution_count": null,
      "outputs": [
        {
          "output_type": "execute_result",
          "data": {
            "text/plain": [
              "array([[0.80235527, 0.87854552, 0.85851913],\n",
              "       [0.96505793, 0.52874671, 0.16003361],\n",
              "       [0.55412272, 0.41839034, 0.06478877]])"
            ]
          },
          "metadata": {},
          "execution_count": 24
        }
      ]
    },
    {
      "cell_type": "code",
      "source": [
        "np.dot(a, c)"
      ],
      "metadata": {
        "id": "tSIJPpPXsNCj",
        "outputId": "96a103f8-3cce-4916-e2a4-5b0cfaffc9af",
        "colab": {
          "base_uri": "https://localhost:8080/"
        }
      },
      "execution_count": null,
      "outputs": [
        {
          "output_type": "execute_result",
          "data": {
            "text/plain": [
              "array([[ 4.39483928,  3.19120995,  1.37295266],\n",
              "       [ 9.97991974,  7.55383866,  3.6497766 ],\n",
              "       [15.46791133, 11.24339969,  6.05684199]])"
            ]
          },
          "metadata": {},
          "execution_count": 25
        }
      ]
    }
  ]
}